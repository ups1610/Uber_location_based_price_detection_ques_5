{
 "cells": [
  {
   "cell_type": "code",
   "execution_count": 1,
   "metadata": {},
   "outputs": [],
   "source": [
    "# useful libraries\n",
    "\n",
    "import numpy as np\n",
    "import pandas as pd\n",
    "import matplotlib.pyplot as plt\n",
    "import seaborn as sns\n",
    "import warnings\n",
    "warnings.filterwarnings('ignore')"
   ]
  },
  {
   "cell_type": "code",
   "execution_count": 2,
   "metadata": {},
   "outputs": [],
   "source": [
    "# load dataset\n",
    "df = pd.read_csv('data/clean_rideshare_data.csv')\n",
    "df=df.head(100000)"
   ]
  },
  {
   "cell_type": "code",
   "execution_count": 3,
   "metadata": {},
   "outputs": [
    {
     "name": "stdout",
     "output_type": "stream",
     "text": [
      "<class 'pandas.core.frame.DataFrame'>\n",
      "RangeIndex: 100000 entries, 0 to 99999\n",
      "Data columns (total 20 columns):\n",
      " #   Column             Non-Null Count   Dtype  \n",
      "---  ------             --------------   -----  \n",
      " 0   Unnamed: 0         100000 non-null  int64  \n",
      " 1   price              100000 non-null  float64\n",
      " 2   distance           100000 non-null  float64\n",
      " 3   surge_multiplier   100000 non-null  float64\n",
      " 4   latitude           100000 non-null  float64\n",
      " 5   longitude          100000 non-null  float64\n",
      " 6   cab_type_Lyft      100000 non-null  float64\n",
      " 7   cab_type_Uber      100000 non-null  float64\n",
      " 8   name_Black         100000 non-null  float64\n",
      " 9   name_Black SUV     100000 non-null  float64\n",
      " 10  name_Lux           100000 non-null  float64\n",
      " 11  name_Lux Black     100000 non-null  float64\n",
      " 12  name_Lux Black XL  100000 non-null  float64\n",
      " 13  name_Lyft          100000 non-null  float64\n",
      " 14  name_Lyft XL       100000 non-null  float64\n",
      " 15  name_Shared        100000 non-null  float64\n",
      " 16  name_UberPool      100000 non-null  float64\n",
      " 17  name_UberX         100000 non-null  float64\n",
      " 18  name_UberXL        100000 non-null  float64\n",
      " 19  name_WAV           100000 non-null  float64\n",
      "dtypes: float64(19), int64(1)\n",
      "memory usage: 15.3 MB\n"
     ]
    }
   ],
   "source": [
    "df.info()"
   ]
  },
  {
   "cell_type": "code",
   "execution_count": 18,
   "metadata": {},
   "outputs": [],
   "source": [
    "# remove unnecessary data\n",
    "df = df.drop(columns=['Unnamed: 0'],axis=1)"
   ]
  },
  {
   "cell_type": "code",
   "execution_count": 19,
   "metadata": {},
   "outputs": [],
   "source": [
    "import pandas as pd\n",
    "import folium\n",
    "from sklearn.cluster import KMeans\n",
    "from sklearn.model_selection import train_test_split\n",
    "from sklearn.linear_model import LinearRegression\n",
    "from sklearn.metrics import mean_squared_error,r2_score"
   ]
  },
  {
   "cell_type": "code",
   "execution_count": 20,
   "metadata": {},
   "outputs": [],
   "source": [
    "#  Unsupervised algorithm for high booking area\n",
    "booking_data = df[['latitude', 'longitude']]  # Use relevant features for clustering\n",
    "kmeans = KMeans(n_clusters=3)  # Specify the number of high booking areas you want to identify\n",
    "kmeans.fit(booking_data)\n",
    "high_booking_areas = kmeans.predict(booking_data)\n",
    "\n"
   ]
  },
  {
   "cell_type": "code",
   "execution_count": 21,
   "metadata": {},
   "outputs": [],
   "source": [
    "#  Supervised algorithm for price prediction\n",
    "X = df.drop(['price'],axis=1)  # Use relevant features for price prediction\n",
    "y = df['price']\n",
    "X_train, X_test, y_train, y_test = train_test_split(X, y, test_size=0.2, random_state=42)\n",
    "regressor = LinearRegression()\n",
    "regressor.fit(X_train, y_train)\n",
    "price_predictions = regressor.predict(X_test)\n",
    "price_mse = mean_squared_error(y_test, price_predictions)\n",
    "r2_square = r2_score(y_test, price_predictions)\n"
   ]
  },
  {
   "cell_type": "code",
   "execution_count": 22,
   "metadata": {},
   "outputs": [
    {
     "name": "stdout",
     "output_type": "stream",
     "text": [
      "5.050120843493938\n",
      "0.9350957360659906\n"
     ]
    }
   ],
   "source": [
    "print(price_mse)\n",
    "print(r2_square)"
   ]
  },
  {
   "cell_type": "code",
   "execution_count": 23,
   "metadata": {},
   "outputs": [],
   "source": [
    "#  Display the data on a map\n",
    "map_obj = folium.Map(location=[df['latitude'].mean(), df['longitude'].mean()], zoom_start=12)\n",
    "\n",
    "for _, row in df.iterrows():\n",
    "    lat, lng = row['latitude'], row['longitude']\n",
    "    marker_color = 'blue' if kmeans.predict([[lat, lng]]) in high_booking_areas else 'green'\n",
    "    marker = folium.CircleMarker(location=[lat, lng], color=marker_color, radius=5, fill=True, fill_color=marker_color)\n",
    "    marker.add_to(map_obj)\n",
    "\n",
    "map_obj.save('map.html')\n"
   ]
  },
  {
   "cell_type": "code",
   "execution_count": null,
   "metadata": {},
   "outputs": [],
   "source": []
  }
 ],
 "metadata": {
  "kernelspec": {
   "display_name": "Python 3",
   "language": "python",
   "name": "python3"
  },
  "language_info": {
   "codemirror_mode": {
    "name": "ipython",
    "version": 3
   },
   "file_extension": ".py",
   "mimetype": "text/x-python",
   "name": "python",
   "nbconvert_exporter": "python",
   "pygments_lexer": "ipython3",
   "version": "3.8.8"
  },
  "orig_nbformat": 4
 },
 "nbformat": 4,
 "nbformat_minor": 2
}
